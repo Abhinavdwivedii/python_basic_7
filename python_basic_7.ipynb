{
  "nbformat": 4,
  "nbformat_minor": 0,
  "metadata": {
    "colab": {
      "provenance": []
    },
    "kernelspec": {
      "name": "python3",
      "display_name": "Python 3"
    },
    "language_info": {
      "name": "python"
    }
  },
  "cells": [
    {
      "cell_type": "markdown",
      "source": [
        "# Ques1. What is the name of the feature responsible for generating Regex objects?"
      ],
      "metadata": {
        "id": "UK-ZtZ-EKncv"
      }
    },
    {
      "cell_type": "code",
      "execution_count": 1,
      "metadata": {
        "colab": {
          "base_uri": "https://localhost:8080/"
        },
        "id": "roWzo-7LKX2o",
        "outputId": "8edafb01-b6b1-4237-d36f-9f7d80a7a03e"
      },
      "outputs": [
        {
          "output_type": "execute_result",
          "data": {
            "text/plain": [
              "re.compile(r'string', re.UNICODE)"
            ]
          },
          "metadata": {},
          "execution_count": 1
        }
      ],
      "source": [
        "import re\n",
        "re.compile(\"string\")\n",
        "#The re.compile() function returns Regex objects."
      ]
    },
    {
      "cell_type": "markdown",
      "source": [
        "# Ques2. Why do raw strings often appear in Regex objects?\n",
        "## Ans . Raw strings are used so that backslashes do not have to be escaped"
      ],
      "metadata": {
        "id": "xr87llmOKtyE"
      }
    },
    {
      "cell_type": "code",
      "source": [],
      "metadata": {
        "id": "_xzzpSUBNu6Z"
      },
      "execution_count": null,
      "outputs": []
    },
    {
      "cell_type": "markdown",
      "source": [
        "# Ques3. What is the return value of the search() method ?\n",
        "## Ans . The search() method searches a string for a specified value, and returns the position of the match.\n",
        "## The search value can be string or a regular expression. This method returns -1 if no match is found"
      ],
      "metadata": {
        "id": "GAzw9Wr6K0wO"
      }
    },
    {
      "cell_type": "code",
      "source": [],
      "metadata": {
        "id": "B1aYqdu4NuNk"
      },
      "execution_count": null,
      "outputs": []
    },
    {
      "cell_type": "markdown",
      "source": [
        "# Ques4. From a Match item, how do you get the actual strings that match the pattern?"
      ],
      "metadata": {
        "id": "D-LpVfA5MIys"
      }
    },
    {
      "cell_type": "code",
      "source": [
        "phoneNumRegex = re.compile(r'\\d\\d\\d-\\d\\d\\d-\\d\\d\\d\\d')\n",
        "mo = phoneNumRegex.search('My number is 345-444-4542.')\n",
        "print('Phone number is: ' + mo.group())\n",
        "#Calling matchingObject.group() will return the string."
      ],
      "metadata": {
        "colab": {
          "base_uri": "https://localhost:8080/"
        },
        "id": "Swohxv04KsAb",
        "outputId": "a99918df-f248-49fb-89de-9c92b5e24e20"
      },
      "execution_count": 2,
      "outputs": [
        {
          "output_type": "stream",
          "name": "stdout",
          "text": [
            "Phone number is: 345-444-4542\n"
          ]
        }
      ]
    },
    {
      "cell_type": "markdown",
      "source": [
        "# Ques5. In the regex which created from the r'(\\d\\d\\d)-(\\d\\d\\d-\\d\\d\\d\\d)', what does group zero cover?\n",
        "#Group 2? Group 1?"
      ],
      "metadata": {
        "id": "CY5O1G0fMTV0"
      }
    },
    {
      "cell_type": "code",
      "source": [
        "\n",
        "phoneNumRegex = re.compile(r'(\\d\\d\\d)-(\\d\\d\\d-\\d\\d\\d\\d)')\n",
        "mo = phoneNumRegex.search('My number is 345-444-4542.')\n",
        "mo.group(1)"
      ],
      "metadata": {
        "colab": {
          "base_uri": "https://localhost:8080/",
          "height": 35
        },
        "id": "6PS1JwWHMQsX",
        "outputId": "8ec9a47e-4266-4995-ffc2-e96300087883"
      },
      "execution_count": 3,
      "outputs": [
        {
          "output_type": "execute_result",
          "data": {
            "text/plain": [
              "'345'"
            ],
            "application/vnd.google.colaboratory.intrinsic+json": {
              "type": "string"
            }
          },
          "metadata": {},
          "execution_count": 3
        }
      ]
    },
    {
      "cell_type": "code",
      "source": [
        "mo.group(2)"
      ],
      "metadata": {
        "colab": {
          "base_uri": "https://localhost:8080/",
          "height": 35
        },
        "id": "k53W5V11Mdl9",
        "outputId": "3a038d4a-531e-4bd2-f508-e7e9fba78e8b"
      },
      "execution_count": 4,
      "outputs": [
        {
          "output_type": "execute_result",
          "data": {
            "text/plain": [
              "'444-4542'"
            ],
            "application/vnd.google.colaboratory.intrinsic+json": {
              "type": "string"
            }
          },
          "metadata": {},
          "execution_count": 4
        }
      ]
    },
    {
      "cell_type": "code",
      "source": [
        "mo.group(0)"
      ],
      "metadata": {
        "colab": {
          "base_uri": "https://localhost:8080/",
          "height": 35
        },
        "id": "AsqzNvgCMho1",
        "outputId": "913920ef-f21d-4248-c730-81f7e277d3ee"
      },
      "execution_count": 5,
      "outputs": [
        {
          "output_type": "execute_result",
          "data": {
            "text/plain": [
              "'345-444-4542'"
            ],
            "application/vnd.google.colaboratory.intrinsic+json": {
              "type": "string"
            }
          },
          "metadata": {},
          "execution_count": 5
        }
      ]
    },
    {
      "cell_type": "markdown",
      "source": [
        "# Ques6. In standard expression syntax, parentheses and intervals have distinct meanings. How can you tell a regex that you want it to fit real parentheses and periods?\n",
        "## Ans. Periods and parentheses can be escaped with a backslash: ., (, and )."
      ],
      "metadata": {
        "id": "hs4zMQywMmOL"
      }
    },
    {
      "cell_type": "code",
      "source": [],
      "metadata": {
        "id": "yjLjeEaNNtGb"
      },
      "execution_count": null,
      "outputs": []
    },
    {
      "cell_type": "markdown",
      "source": [
        "# Ques 7. The findall() method returns a string list or a list of string tuples. What causes it to return one of the two options?\n",
        "## Ans. If the regex has no groups, a list of strings is returned. If the regex has groups, a list of tuples of strings is returned."
      ],
      "metadata": {
        "id": "IkhGCU7nMxC7"
      }
    },
    {
      "cell_type": "code",
      "source": [],
      "metadata": {
        "id": "2et0hSfGNsBh"
      },
      "execution_count": null,
      "outputs": []
    },
    {
      "cell_type": "markdown",
      "source": [
        "# Ques8. In standard expressions, what does the | character mean?\n",
        "## Ans. The | character is called a pipe. You can use it anywhere you want to match one of many expressions.\n",
        "\n",
        "## For example, the regular expression r'Cricket|Soccer Sport' will match either 'Cricket' or 'Soccer Sport'.\n",
        "\n",
        "## When both Cricket and Soccer Sport occur in the searched string, the first occurrence of matching text will be returned as the Match object.\n",
        "\n",
        "## The | character signifies matching “either, or” between two groups"
      ],
      "metadata": {
        "id": "vjjJArX5M6NS"
      }
    },
    {
      "cell_type": "code",
      "source": [
        "SportRegex = re.compile (r'Cricket|Soccer Sport')\n",
        "s1 = SportRegex.search('Cricket and Soccer Sport')\n",
        "s1.group()"
      ],
      "metadata": {
        "colab": {
          "base_uri": "https://localhost:8080/",
          "height": 35
        },
        "id": "nD6FAcb0Mkj9",
        "outputId": "21e8349d-69e3-4d63-db5c-f22cc4e3593d"
      },
      "execution_count": 6,
      "outputs": [
        {
          "output_type": "execute_result",
          "data": {
            "text/plain": [
              "'Cricket'"
            ],
            "application/vnd.google.colaboratory.intrinsic+json": {
              "type": "string"
            }
          },
          "metadata": {},
          "execution_count": 6
        }
      ]
    },
    {
      "cell_type": "code",
      "source": [
        "s2 = SportRegex.search('Soccer Sport and Cricket')\n",
        "s2.group()   "
      ],
      "metadata": {
        "colab": {
          "base_uri": "https://localhost:8080/",
          "height": 35
        },
        "id": "iadoE6N1NHNr",
        "outputId": "363ace02-57ca-4abe-dc41-8ccf82d05178"
      },
      "execution_count": 7,
      "outputs": [
        {
          "output_type": "execute_result",
          "data": {
            "text/plain": [
              "'Soccer Sport'"
            ],
            "application/vnd.google.colaboratory.intrinsic+json": {
              "type": "string"
            }
          },
          "metadata": {},
          "execution_count": 7
        }
      ]
    },
    {
      "cell_type": "markdown",
      "source": [
        "# Ques9. In regular expressions, what does the ? character stand for?\n",
        "## Ans. The ? character can either mean “match zero or one of the preceding group”."
      ],
      "metadata": {
        "id": "TMdKjknLNNTS"
      }
    },
    {
      "cell_type": "code",
      "source": [
        "\n",
        "batRegex = re.compile(r'Bat(wo)?man')\n",
        "mo1 = batRegex.search('The Adventures of Batman')\n",
        "mo1.group()"
      ],
      "metadata": {
        "colab": {
          "base_uri": "https://localhost:8080/",
          "height": 35
        },
        "id": "qMJBWvQaNKhL",
        "outputId": "02317497-65b4-4b1f-b725-381a7829601b"
      },
      "execution_count": 8,
      "outputs": [
        {
          "output_type": "execute_result",
          "data": {
            "text/plain": [
              "'Batman'"
            ],
            "application/vnd.google.colaboratory.intrinsic+json": {
              "type": "string"
            }
          },
          "metadata": {},
          "execution_count": 8
        }
      ]
    },
    {
      "cell_type": "code",
      "source": [
        "\n",
        "mo2 = batRegex.search('The Adventures of Batwoman')\n",
        "mo2.group()\n",
        "     "
      ],
      "metadata": {
        "colab": {
          "base_uri": "https://localhost:8080/",
          "height": 35
        },
        "id": "lTZTPR1nNWSW",
        "outputId": "6e99e8ef-6901-4451-a41e-01fb1f13ec5e"
      },
      "execution_count": 9,
      "outputs": [
        {
          "output_type": "execute_result",
          "data": {
            "text/plain": [
              "'Batwoman'"
            ],
            "application/vnd.google.colaboratory.intrinsic+json": {
              "type": "string"
            }
          },
          "metadata": {},
          "execution_count": 9
        }
      ]
    },
    {
      "cell_type": "code",
      "source": [],
      "metadata": {
        "id": "-i8RlT7CNqD4"
      },
      "execution_count": null,
      "outputs": []
    },
    {
      "cell_type": "markdown",
      "source": [
        "# Ques10.In regular expressions, what is the difference between the + and * characters?\n",
        "##Ans. The + matches one or more. The * matches zero or more"
      ],
      "metadata": {
        "id": "HWGS4eTXNaDa"
      }
    },
    {
      "cell_type": "code",
      "source": [
        "\n"
      ],
      "metadata": {
        "id": "kOZHpjdyNXuM"
      },
      "execution_count": 9,
      "outputs": []
    },
    {
      "cell_type": "markdown",
      "source": [
        "#Ques11. What is the difference between {4} and {4,5} in regular expression?\n",
        "##Ans. The {3} matches exactly three instances of the preceding group.\n",
        "\n",
        "##The {3,5} matches between three and five instances"
      ],
      "metadata": {
        "id": "Vk_6wAq7NlOS"
      }
    },
    {
      "cell_type": "code",
      "source": [],
      "metadata": {
        "id": "uLUZSY1wNpCT"
      },
      "execution_count": null,
      "outputs": []
    },
    {
      "cell_type": "markdown",
      "source": [
        "#Ques12. What do you mean by the \\d, \\w, and \\s shorthand character classes signify in regular expressions?\n",
        "## Ans .The \\d, stands for single digit, Any numeric digit from 0 to 9 \\w, stands for single word, Any letter, numeric digit, or the underscore character. (Think of this as matching “word” characters.) \\s stands for single space character, Any space, tab, or newline character. (Think of this as matching “space” characters.)"
      ],
      "metadata": {
        "id": "iKNXc_t1N5QK"
      }
    },
    {
      "cell_type": "code",
      "source": [
        "\n"
      ],
      "metadata": {
        "id": "wTuJKoh7OFaw"
      },
      "execution_count": 9,
      "outputs": []
    },
    {
      "cell_type": "markdown",
      "source": [
        "#Ques13. What do means by \\D, \\W, and \\S shorthand character classes signify in regular expressions?\n",
        "## Ans. \\D - > Any character that is not a numeric digit from 0 to 9.\n",
        "\n",
        "## \\W - > Any character that is not a letter, numeric digit, or the underscore character.\n",
        "## \\S - > Any character that is not a space, tab, or newline."
      ],
      "metadata": {
        "id": "gDu-fDUGOKcZ"
      }
    },
    {
      "cell_type": "code",
      "source": [],
      "metadata": {
        "id": "V2nQMYjiOT_L"
      },
      "execution_count": null,
      "outputs": []
    },
    {
      "cell_type": "markdown",
      "source": [
        "# Ques14. What is the difference between .? and .?\n",
        "## Ans) .* - The dot-star uses greedy mode: It will always try to match as much text as possible.\n",
        "\n",
        "##.? - To match any and all text in a non-greedy fashion, use the dot, star, and question mark (.?). Like with braces, the question mark tells Python to match in a non-greedy way."
      ],
      "metadata": {
        "id": "xB4yp4L-OWjC"
      }
    },
    {
      "cell_type": "code",
      "source": [],
      "metadata": {
        "id": "by4nUvroObjp"
      },
      "execution_count": 13,
      "outputs": []
    },
    {
      "cell_type": "markdown",
      "source": [
        "#Ques15. What is the syntax for matching both numbers and lowercase letters with a character class?\n",
        "\n",
        "## Ans. Either [0-9a-z] or [a-z0-9]"
      ],
      "metadata": {
        "id": "toz-9s5oPLgO"
      }
    },
    {
      "cell_type": "code",
      "source": [
        "\n",
        "reg1 = re.compile(r'[0-9a-z]')\n",
        "reg2 = re.compile(r'[a-z0-9]')\n",
        "\n",
        "mo1 = reg1.search('100 times I am Reading  this for 100 th time')\n",
        "mo1.group()\n",
        "     "
      ],
      "metadata": {
        "colab": {
          "base_uri": "https://localhost:8080/",
          "height": 35
        },
        "id": "QO8xaOHGPN-B",
        "outputId": "2ade5773-f6a4-45b7-d37b-86a3611c8175"
      },
      "execution_count": 14,
      "outputs": [
        {
          "output_type": "execute_result",
          "data": {
            "text/plain": [
              "'1'"
            ],
            "application/vnd.google.colaboratory.intrinsic+json": {
              "type": "string"
            }
          },
          "metadata": {},
          "execution_count": 14
        }
      ]
    },
    {
      "cell_type": "code",
      "source": [
        "\n",
        "reg2 = re.compile(r'[a-z0-9]')\n",
        "\n",
        "mo1 = reg2.search('times I am Reading  this for 100 th time')\n",
        "mo1.group()"
      ],
      "metadata": {
        "colab": {
          "base_uri": "https://localhost:8080/",
          "height": 35
        },
        "id": "d6WNb9sYPVqR",
        "outputId": "3c917efb-db58-447b-f5ef-50dbb1975719"
      },
      "execution_count": 15,
      "outputs": [
        {
          "output_type": "execute_result",
          "data": {
            "text/plain": [
              "'t'"
            ],
            "application/vnd.google.colaboratory.intrinsic+json": {
              "type": "string"
            }
          },
          "metadata": {},
          "execution_count": 15
        }
      ]
    },
    {
      "cell_type": "code",
      "source": [],
      "metadata": {
        "id": "Obb3KapkPYdq"
      },
      "execution_count": null,
      "outputs": []
    },
    {
      "cell_type": "markdown",
      "source": [
        "# Ques16. What is the procedure for making a normal expression in regax case insensitive?\n",
        "## Ans. Passing re.I or re.IGNORECASE as the second argument to re.compile() will make the matching case insensitive"
      ],
      "metadata": {
        "id": "DZ-dwG-PPfga"
      }
    },
    {
      "cell_type": "code",
      "source": [
        "casesen = re.compile(r'machine', re.I)\n",
        "casesen.search('Machine learning is part of data science').group()"
      ],
      "metadata": {
        "colab": {
          "base_uri": "https://localhost:8080/",
          "height": 35
        },
        "id": "bb61tI61Pj6u",
        "outputId": "a3eb477b-b7f7-4cfa-8b58-8dd1931c3b77"
      },
      "execution_count": 18,
      "outputs": [
        {
          "output_type": "execute_result",
          "data": {
            "text/plain": [
              "'Machine'"
            ],
            "application/vnd.google.colaboratory.intrinsic+json": {
              "type": "string"
            }
          },
          "metadata": {},
          "execution_count": 18
        }
      ]
    },
    {
      "cell_type": "code",
      "source": [
        "casesen.search('MACHINE is learning.').group()"
      ],
      "metadata": {
        "colab": {
          "base_uri": "https://localhost:8080/",
          "height": 35
        },
        "id": "vX5_CNlTPlr4",
        "outputId": "99c335c2-8939-4de8-f072-e3cae44efdb7"
      },
      "execution_count": 19,
      "outputs": [
        {
          "output_type": "execute_result",
          "data": {
            "text/plain": [
              "'MACHINE'"
            ],
            "application/vnd.google.colaboratory.intrinsic+json": {
              "type": "string"
            }
          },
          "metadata": {},
          "execution_count": 19
        }
      ]
    },
    {
      "cell_type": "code",
      "source": [],
      "metadata": {
        "id": "4fpZqqPtPonn"
      },
      "execution_count": null,
      "outputs": []
    },
    {
      "cell_type": "markdown",
      "source": [
        "# Ques17. What does the . character normally match? What does it match if re.DOTALL is passed as 2nd argument in re.compile()?\n",
        "##The . character normally matches any character except the newline character.\n",
        "\n",
        "##Ans-)If re.DOTALL is passed as the second argument to re.compile(), then the dot will also match newline characters."
      ],
      "metadata": {
        "id": "lJi7NhJaPr3W"
      }
    },
    {
      "cell_type": "code",
      "source": [
        "|"
      ],
      "metadata": {
        "id": "5oQ6VeEcPyN3"
      },
      "execution_count": null,
      "outputs": []
    },
    {
      "cell_type": "markdown",
      "source": [
        "#Ques18. If numRegex = re.compile(r'\\d+'), what will numRegex.sub('X', '11 drummers, 10 pipers, five rings, 4 hen') return?"
      ],
      "metadata": {
        "id": "mGQwmCGuP3cP"
      }
    },
    {
      "cell_type": "code",
      "source": [
        "numRegex = re.compile(r'\\d+')\n",
        "mo = numRegex.sub('X', '11 drummers, 10 pipers, five rings, 4 hen')\n",
        "mo"
      ],
      "metadata": {
        "colab": {
          "base_uri": "https://localhost:8080/",
          "height": 35
        },
        "id": "l3HPmozZP6R4",
        "outputId": "a298a247-f419-4aac-ecba-cb51df3e4d30"
      },
      "execution_count": 20,
      "outputs": [
        {
          "output_type": "execute_result",
          "data": {
            "text/plain": [
              "'X drummers, X pipers, five rings, X hen'"
            ],
            "application/vnd.google.colaboratory.intrinsic+json": {
              "type": "string"
            }
          },
          "metadata": {},
          "execution_count": 20
        }
      ]
    },
    {
      "cell_type": "code",
      "source": [],
      "metadata": {
        "id": "KkgP88nhP8MQ"
      },
      "execution_count": null,
      "outputs": []
    },
    {
      "cell_type": "markdown",
      "source": [
        "#Ques19. What does passing re.VERBOSE as the 2nd argument to re.compile() allow to do?\n",
        "##Ans. The re.VERBOSE argument allows you to add whitespace and comments to the string passed to re.compile()"
      ],
      "metadata": {
        "id": "Tf2sXUOLP-Wg"
      }
    },
    {
      "cell_type": "code",
      "source": [],
      "metadata": {
        "id": "0ROgzm9zQBmC"
      },
      "execution_count": null,
      "outputs": []
    },
    {
      "cell_type": "markdown",
      "source": [
        "#Ques20. How would you write a regex that match a number with comma for every three digits? It must match the given following:"
      ],
      "metadata": {
        "id": "RdP_mWaBQIJo"
      }
    },
    {
      "cell_type": "code",
      "source": [
        "reg1 = re.compile(r'^\\d{1,3}(,\\d{3})*$')\n",
        "mo1 = reg1.search('42')\n",
        "mo1.group()"
      ],
      "metadata": {
        "colab": {
          "base_uri": "https://localhost:8080/",
          "height": 35
        },
        "id": "U39LHkiiQJuK",
        "outputId": "87b8c433-d39c-45d9-e9be-59620136ac12"
      },
      "execution_count": 21,
      "outputs": [
        {
          "output_type": "execute_result",
          "data": {
            "text/plain": [
              "'42'"
            ],
            "application/vnd.google.colaboratory.intrinsic+json": {
              "type": "string"
            }
          },
          "metadata": {},
          "execution_count": 21
        }
      ]
    },
    {
      "cell_type": "code",
      "source": [
        "reg1 = re.compile(r'^\\d{1,3}(,\\d{3})*$')\n",
        "mo1 = reg1.search('1,234')\n",
        "mo1.group()\n",
        "     "
      ],
      "metadata": {
        "colab": {
          "base_uri": "https://localhost:8080/",
          "height": 35
        },
        "id": "PcA1miPcQLpp",
        "outputId": "b1cc3f73-4a98-4ed4-d72b-c90d02f449b4"
      },
      "execution_count": 22,
      "outputs": [
        {
          "output_type": "execute_result",
          "data": {
            "text/plain": [
              "'1,234'"
            ],
            "application/vnd.google.colaboratory.intrinsic+json": {
              "type": "string"
            }
          },
          "metadata": {},
          "execution_count": 22
        }
      ]
    },
    {
      "cell_type": "code",
      "source": [
        "reg1 = re.compile(r'^\\d{1,3}(,\\d{3})*$')\n",
        "mo1 = reg1.search('6,368,745')\n",
        "mo1.group()\n",
        "     "
      ],
      "metadata": {
        "colab": {
          "base_uri": "https://localhost:8080/",
          "height": 35
        },
        "id": "ihdyKqsoQOrH",
        "outputId": "14e88ac9-a423-4b37-946b-f375ed477552"
      },
      "execution_count": 23,
      "outputs": [
        {
          "output_type": "execute_result",
          "data": {
            "text/plain": [
              "'6,368,745'"
            ],
            "application/vnd.google.colaboratory.intrinsic+json": {
              "type": "string"
            }
          },
          "metadata": {},
          "execution_count": 23
        }
      ]
    },
    {
      "cell_type": "code",
      "source": [],
      "metadata": {
        "id": "7iDPZkRRQRWp"
      },
      "execution_count": null,
      "outputs": []
    },
    {
      "cell_type": "markdown",
      "source": [
        "#Ques21. How would you write a regex that matches the full name of someone whose last name is Watanabe? You can assume that the first name that comes before it will always be one word that begins with a capital letter. The regex must match the following:"
      ],
      "metadata": {
        "id": "39x49NY3QTk-"
      }
    },
    {
      "cell_type": "code",
      "source": [
        "name = re.compile(r'[A-Z][a-z]*\\sWatanabe')\n",
        "reg1 = re.compile(r'^\\d{1,3}(,\\d{haruto Watanabe3})*$')\n",
        "mo1 = name.search('Haruto Watanabe')\n",
        "mo1.group()\n",
        "     "
      ],
      "metadata": {
        "colab": {
          "base_uri": "https://localhost:8080/",
          "height": 35
        },
        "id": "LrYAM6-tQUWA",
        "outputId": "5f9449fc-026c-4b40-f45b-e62f2ff252d6"
      },
      "execution_count": 24,
      "outputs": [
        {
          "output_type": "execute_result",
          "data": {
            "text/plain": [
              "'Haruto Watanabe'"
            ],
            "application/vnd.google.colaboratory.intrinsic+json": {
              "type": "string"
            }
          },
          "metadata": {},
          "execution_count": 24
        }
      ]
    },
    {
      "cell_type": "code",
      "source": [
        "name = re.compile(r'[A-Z][a-z]*\\sWatanabe')\n",
        "reg1 = re.compile(r'^\\d{1,3}(,\\d{3})*$')\n",
        "mo1 = name.search('Alice Watanabe')\n",
        "mo1.group()"
      ],
      "metadata": {
        "colab": {
          "base_uri": "https://localhost:8080/",
          "height": 35
        },
        "id": "9KVO52G7Qaa4",
        "outputId": "6d52ea2d-8639-4ce3-f09b-0c103421af5f"
      },
      "execution_count": 25,
      "outputs": [
        {
          "output_type": "execute_result",
          "data": {
            "text/plain": [
              "'Alice Watanabe'"
            ],
            "application/vnd.google.colaboratory.intrinsic+json": {
              "type": "string"
            }
          },
          "metadata": {},
          "execution_count": 25
        }
      ]
    },
    {
      "cell_type": "code",
      "source": [
        "name = re.compile(r'[A-Z][a-z]*\\sWatanabe')\n",
        "reg1 = re.compile(r'^\\d{1,3}(,\\d{3})*$')\n",
        "mo1 = name.search('Robocop Watanabe')\n",
        "mo1.group()"
      ],
      "metadata": {
        "colab": {
          "base_uri": "https://localhost:8080/",
          "height": 35
        },
        "id": "FB6HIJ7pQcrX",
        "outputId": "b4402274-0aab-41b5-8d42-3f1dbc8a13fc"
      },
      "execution_count": 26,
      "outputs": [
        {
          "output_type": "execute_result",
          "data": {
            "text/plain": [
              "'Robocop Watanabe'"
            ],
            "application/vnd.google.colaboratory.intrinsic+json": {
              "type": "string"
            }
          },
          "metadata": {},
          "execution_count": 26
        }
      ]
    },
    {
      "cell_type": "code",
      "source": [],
      "metadata": {
        "id": "fMSbA5XiQf6f"
      },
      "execution_count": null,
      "outputs": []
    },
    {
      "cell_type": "markdown",
      "source": [
        "#Ques22. How would you write a regex that matches a sentence where the first word is either Alice, Bob,or Carol; the second word is either eats, pets, or throws; the third word is apples, cats, or baseballs; and the sentence ends with a period? This regex should be case-insensitive. It must match the following:"
      ],
      "metadata": {
        "id": "N5ipvG-kQhtk"
      }
    },
    {
      "cell_type": "code",
      "source": [
        "name = re.compile(r'(Alice|Bob|Carol)\\s(eats|pets|throws)\\s(apples|cats|baseballs)\\.', re.IGNORECASE)\n",
        "\n",
        "mo1 = name.search('Alice eats apples.')\n",
        "mo1.group()"
      ],
      "metadata": {
        "colab": {
          "base_uri": "https://localhost:8080/",
          "height": 35
        },
        "id": "KNETIadWQkhY",
        "outputId": "9e59fa2a-647b-4619-91bc-aff1a8c06c55"
      },
      "execution_count": 27,
      "outputs": [
        {
          "output_type": "execute_result",
          "data": {
            "text/plain": [
              "'Alice eats apples.'"
            ],
            "application/vnd.google.colaboratory.intrinsic+json": {
              "type": "string"
            }
          },
          "metadata": {},
          "execution_count": 27
        }
      ]
    },
    {
      "cell_type": "code",
      "source": [
        "\n",
        "name = re.compile(r'(Alice|Bob|Carol)\\s(eats|pets|throws)\\s(apples|cats|baseballs)\\.', re.IGNORECASE)\n",
        "\n",
        "mo1 = name.search('Carol throws baseballs.')\n",
        "mo1.group()"
      ],
      "metadata": {
        "colab": {
          "base_uri": "https://localhost:8080/",
          "height": 35
        },
        "id": "IUFj-Lq4Qmk_",
        "outputId": "4002937d-ed3f-446d-e3fd-33eb6478f993"
      },
      "execution_count": 28,
      "outputs": [
        {
          "output_type": "execute_result",
          "data": {
            "text/plain": [
              "'Carol throws baseballs.'"
            ],
            "application/vnd.google.colaboratory.intrinsic+json": {
              "type": "string"
            }
          },
          "metadata": {},
          "execution_count": 28
        }
      ]
    },
    {
      "cell_type": "code",
      "source": [],
      "metadata": {
        "id": "56OPUw79QodQ"
      },
      "execution_count": null,
      "outputs": []
    }
  ]
}